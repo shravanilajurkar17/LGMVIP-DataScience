{
  "nbformat": 4,
  "nbformat_minor": 0,
  "metadata": {
    "colab": {
      "provenance": []
    },
    "kernelspec": {
      "name": "python3",
      "display_name": "Python 3"
    },
    "language_info": {
      "name": "python"
    }
  },
  "cells": [
    {
      "cell_type": "code",
      "execution_count": 1,
      "metadata": {
        "id": "1dH3fLsxssZ2"
      },
      "outputs": [],
      "source": [
        "import numpy as np\n",
        "import pandas as pd\n",
        "import datetime\n",
        "import math\n",
        "import matplotlib.pyplot as plt\n",
        "import seaborn as sns\n",
        "from sklearn.preprocessing import MinMaxScaler\n",
        "from tensorflow.keras.models import Sequential\n",
        "from tensorflow.keras.layers import Dense , LSTM\n",
        "from sklearn.metrics import mean_squared_error"
      ]
    },
    {
      "cell_type": "code",
      "source": [
        "Dataset_link='https://raw.githubusercontent.com/mwitiderrick/stockprice/master/NSE-TATAGLOBAL.csv'"
      ],
      "metadata": {
        "id": "nx1hlmy0t_nV"
      },
      "execution_count": 2,
      "outputs": []
    },
    {
      "cell_type": "code",
      "source": [
        "df= pd.read_csv(Dataset_link, parse_dates=True,)\n",
        "df.reset_index()\n",
        "df.head(10)"
      ],
      "metadata": {
        "colab": {
          "base_uri": "https://localhost:8080/",
          "height": 363
        },
        "id": "pOtCGVouuFIv",
        "outputId": "8c203cc2-f003-4dab-b2b1-1e1ac6d746b8"
      },
      "execution_count": 3,
      "outputs": [
        {
          "output_type": "execute_result",
          "data": {
            "text/plain": [
              "         Date    Open    High     Low    Last   Close  Total Trade Quantity  \\\n",
              "0  2018-09-28  234.05  235.95  230.20  233.50  233.75               3069914   \n",
              "1  2018-09-27  234.55  236.80  231.10  233.80  233.25               5082859   \n",
              "2  2018-09-26  240.00  240.00  232.50  235.00  234.25               2240909   \n",
              "3  2018-09-25  233.30  236.75  232.00  236.25  236.10               2349368   \n",
              "4  2018-09-24  233.55  239.20  230.75  234.00  233.30               3423509   \n",
              "5  2018-09-21  235.00  237.00  227.95  233.75  234.60               5395319   \n",
              "6  2018-09-19  235.95  237.20  233.45  234.60  234.90               1362058   \n",
              "7  2018-09-18  237.90  239.25  233.50  235.50  235.05               2614794   \n",
              "8  2018-09-17  233.15  238.00  230.25  236.40  236.60               3170894   \n",
              "9  2018-09-14  223.45  236.70  223.30  234.00  233.95               6377909   \n",
              "\n",
              "   Turnover (Lacs)  \n",
              "0          7162.35  \n",
              "1         11859.95  \n",
              "2          5248.60  \n",
              "3          5503.90  \n",
              "4          7999.55  \n",
              "5         12589.59  \n",
              "6          3202.78  \n",
              "7          6163.70  \n",
              "8          7445.41  \n",
              "9         14784.50  "
            ],
            "text/html": [
              "\n",
              "  <div id=\"df-23284a62-e4ec-41b1-ad54-e232cc54d771\">\n",
              "    <div class=\"colab-df-container\">\n",
              "      <div>\n",
              "<style scoped>\n",
              "    .dataframe tbody tr th:only-of-type {\n",
              "        vertical-align: middle;\n",
              "    }\n",
              "\n",
              "    .dataframe tbody tr th {\n",
              "        vertical-align: top;\n",
              "    }\n",
              "\n",
              "    .dataframe thead th {\n",
              "        text-align: right;\n",
              "    }\n",
              "</style>\n",
              "<table border=\"1\" class=\"dataframe\">\n",
              "  <thead>\n",
              "    <tr style=\"text-align: right;\">\n",
              "      <th></th>\n",
              "      <th>Date</th>\n",
              "      <th>Open</th>\n",
              "      <th>High</th>\n",
              "      <th>Low</th>\n",
              "      <th>Last</th>\n",
              "      <th>Close</th>\n",
              "      <th>Total Trade Quantity</th>\n",
              "      <th>Turnover (Lacs)</th>\n",
              "    </tr>\n",
              "  </thead>\n",
              "  <tbody>\n",
              "    <tr>\n",
              "      <th>0</th>\n",
              "      <td>2018-09-28</td>\n",
              "      <td>234.05</td>\n",
              "      <td>235.95</td>\n",
              "      <td>230.20</td>\n",
              "      <td>233.50</td>\n",
              "      <td>233.75</td>\n",
              "      <td>3069914</td>\n",
              "      <td>7162.35</td>\n",
              "    </tr>\n",
              "    <tr>\n",
              "      <th>1</th>\n",
              "      <td>2018-09-27</td>\n",
              "      <td>234.55</td>\n",
              "      <td>236.80</td>\n",
              "      <td>231.10</td>\n",
              "      <td>233.80</td>\n",
              "      <td>233.25</td>\n",
              "      <td>5082859</td>\n",
              "      <td>11859.95</td>\n",
              "    </tr>\n",
              "    <tr>\n",
              "      <th>2</th>\n",
              "      <td>2018-09-26</td>\n",
              "      <td>240.00</td>\n",
              "      <td>240.00</td>\n",
              "      <td>232.50</td>\n",
              "      <td>235.00</td>\n",
              "      <td>234.25</td>\n",
              "      <td>2240909</td>\n",
              "      <td>5248.60</td>\n",
              "    </tr>\n",
              "    <tr>\n",
              "      <th>3</th>\n",
              "      <td>2018-09-25</td>\n",
              "      <td>233.30</td>\n",
              "      <td>236.75</td>\n",
              "      <td>232.00</td>\n",
              "      <td>236.25</td>\n",
              "      <td>236.10</td>\n",
              "      <td>2349368</td>\n",
              "      <td>5503.90</td>\n",
              "    </tr>\n",
              "    <tr>\n",
              "      <th>4</th>\n",
              "      <td>2018-09-24</td>\n",
              "      <td>233.55</td>\n",
              "      <td>239.20</td>\n",
              "      <td>230.75</td>\n",
              "      <td>234.00</td>\n",
              "      <td>233.30</td>\n",
              "      <td>3423509</td>\n",
              "      <td>7999.55</td>\n",
              "    </tr>\n",
              "    <tr>\n",
              "      <th>5</th>\n",
              "      <td>2018-09-21</td>\n",
              "      <td>235.00</td>\n",
              "      <td>237.00</td>\n",
              "      <td>227.95</td>\n",
              "      <td>233.75</td>\n",
              "      <td>234.60</td>\n",
              "      <td>5395319</td>\n",
              "      <td>12589.59</td>\n",
              "    </tr>\n",
              "    <tr>\n",
              "      <th>6</th>\n",
              "      <td>2018-09-19</td>\n",
              "      <td>235.95</td>\n",
              "      <td>237.20</td>\n",
              "      <td>233.45</td>\n",
              "      <td>234.60</td>\n",
              "      <td>234.90</td>\n",
              "      <td>1362058</td>\n",
              "      <td>3202.78</td>\n",
              "    </tr>\n",
              "    <tr>\n",
              "      <th>7</th>\n",
              "      <td>2018-09-18</td>\n",
              "      <td>237.90</td>\n",
              "      <td>239.25</td>\n",
              "      <td>233.50</td>\n",
              "      <td>235.50</td>\n",
              "      <td>235.05</td>\n",
              "      <td>2614794</td>\n",
              "      <td>6163.70</td>\n",
              "    </tr>\n",
              "    <tr>\n",
              "      <th>8</th>\n",
              "      <td>2018-09-17</td>\n",
              "      <td>233.15</td>\n",
              "      <td>238.00</td>\n",
              "      <td>230.25</td>\n",
              "      <td>236.40</td>\n",
              "      <td>236.60</td>\n",
              "      <td>3170894</td>\n",
              "      <td>7445.41</td>\n",
              "    </tr>\n",
              "    <tr>\n",
              "      <th>9</th>\n",
              "      <td>2018-09-14</td>\n",
              "      <td>223.45</td>\n",
              "      <td>236.70</td>\n",
              "      <td>223.30</td>\n",
              "      <td>234.00</td>\n",
              "      <td>233.95</td>\n",
              "      <td>6377909</td>\n",
              "      <td>14784.50</td>\n",
              "    </tr>\n",
              "  </tbody>\n",
              "</table>\n",
              "</div>\n",
              "      <button class=\"colab-df-convert\" onclick=\"convertToInteractive('df-23284a62-e4ec-41b1-ad54-e232cc54d771')\"\n",
              "              title=\"Convert this dataframe to an interactive table.\"\n",
              "              style=\"display:none;\">\n",
              "        \n",
              "  <svg xmlns=\"http://www.w3.org/2000/svg\" height=\"24px\"viewBox=\"0 0 24 24\"\n",
              "       width=\"24px\">\n",
              "    <path d=\"M0 0h24v24H0V0z\" fill=\"none\"/>\n",
              "    <path d=\"M18.56 5.44l.94 2.06.94-2.06 2.06-.94-2.06-.94-.94-2.06-.94 2.06-2.06.94zm-11 1L8.5 8.5l.94-2.06 2.06-.94-2.06-.94L8.5 2.5l-.94 2.06-2.06.94zm10 10l.94 2.06.94-2.06 2.06-.94-2.06-.94-.94-2.06-.94 2.06-2.06.94z\"/><path d=\"M17.41 7.96l-1.37-1.37c-.4-.4-.92-.59-1.43-.59-.52 0-1.04.2-1.43.59L10.3 9.45l-7.72 7.72c-.78.78-.78 2.05 0 2.83L4 21.41c.39.39.9.59 1.41.59.51 0 1.02-.2 1.41-.59l7.78-7.78 2.81-2.81c.8-.78.8-2.07 0-2.86zM5.41 20L4 18.59l7.72-7.72 1.47 1.35L5.41 20z\"/>\n",
              "  </svg>\n",
              "      </button>\n",
              "      \n",
              "  <style>\n",
              "    .colab-df-container {\n",
              "      display:flex;\n",
              "      flex-wrap:wrap;\n",
              "      gap: 12px;\n",
              "    }\n",
              "\n",
              "    .colab-df-convert {\n",
              "      background-color: #E8F0FE;\n",
              "      border: none;\n",
              "      border-radius: 50%;\n",
              "      cursor: pointer;\n",
              "      display: none;\n",
              "      fill: #1967D2;\n",
              "      height: 32px;\n",
              "      padding: 0 0 0 0;\n",
              "      width: 32px;\n",
              "    }\n",
              "\n",
              "    .colab-df-convert:hover {\n",
              "      background-color: #E2EBFA;\n",
              "      box-shadow: 0px 1px 2px rgba(60, 64, 67, 0.3), 0px 1px 3px 1px rgba(60, 64, 67, 0.15);\n",
              "      fill: #174EA6;\n",
              "    }\n",
              "\n",
              "    [theme=dark] .colab-df-convert {\n",
              "      background-color: #3B4455;\n",
              "      fill: #D2E3FC;\n",
              "    }\n",
              "\n",
              "    [theme=dark] .colab-df-convert:hover {\n",
              "      background-color: #434B5C;\n",
              "      box-shadow: 0px 1px 3px 1px rgba(0, 0, 0, 0.15);\n",
              "      filter: drop-shadow(0px 1px 2px rgba(0, 0, 0, 0.3));\n",
              "      fill: #FFFFFF;\n",
              "    }\n",
              "  </style>\n",
              "\n",
              "      <script>\n",
              "        const buttonEl =\n",
              "          document.querySelector('#df-23284a62-e4ec-41b1-ad54-e232cc54d771 button.colab-df-convert');\n",
              "        buttonEl.style.display =\n",
              "          google.colab.kernel.accessAllowed ? 'block' : 'none';\n",
              "\n",
              "        async function convertToInteractive(key) {\n",
              "          const element = document.querySelector('#df-23284a62-e4ec-41b1-ad54-e232cc54d771');\n",
              "          const dataTable =\n",
              "            await google.colab.kernel.invokeFunction('convertToInteractive',\n",
              "                                                     [key], {});\n",
              "          if (!dataTable) return;\n",
              "\n",
              "          const docLinkHtml = 'Like what you see? Visit the ' +\n",
              "            '<a target=\"_blank\" href=https://colab.research.google.com/notebooks/data_table.ipynb>data table notebook</a>'\n",
              "            + ' to learn more about interactive tables.';\n",
              "          element.innerHTML = '';\n",
              "          dataTable['output_type'] = 'display_data';\n",
              "          await google.colab.output.renderOutput(dataTable, element);\n",
              "          const docLink = document.createElement('div');\n",
              "          docLink.innerHTML = docLinkHtml;\n",
              "          element.appendChild(docLink);\n",
              "        }\n",
              "      </script>\n",
              "    </div>\n",
              "  </div>\n",
              "  "
            ]
          },
          "metadata": {},
          "execution_count": 3
        }
      ]
    },
    {
      "cell_type": "code",
      "source": [
        "df.sample(10)"
      ],
      "metadata": {
        "colab": {
          "base_uri": "https://localhost:8080/",
          "height": 363
        },
        "id": "QIydTLCWuKfM",
        "outputId": "fe7d0fd7-42ac-410a-efdf-8286526fb16d"
      },
      "execution_count": 4,
      "outputs": [
        {
          "output_type": "execute_result",
          "data": {
            "text/plain": [
              "            Date    Open    High     Low    Last   Close  \\\n",
              "1283  2013-07-18  157.60  158.30  153.40  155.10  154.95   \n",
              "1767  2011-08-10  104.80  109.60  101.20  105.60  106.65   \n",
              "91    2018-05-18  248.30  248.95  243.35  245.10  244.70   \n",
              "414   2017-01-27  128.35  129.95  128.35  128.80  129.20   \n",
              "1929  2010-12-20  115.00  115.90  114.00  115.60  115.45   \n",
              "1712  2011-11-02   91.00   92.60   90.55   91.15   91.15   \n",
              "1456  2012-11-08  158.45  167.90  157.85  167.80  167.35   \n",
              "1847  2011-04-19  100.50  102.50  100.05  101.45  101.45   \n",
              "288   2017-08-01  171.00  171.75  166.75  167.80  167.50   \n",
              "1747  2011-09-12   92.00   92.50   90.25   91.15   91.05   \n",
              "\n",
              "      Total Trade Quantity  Turnover (Lacs)  \n",
              "1283               2383891          3718.86  \n",
              "1767               5475703          5783.08  \n",
              "91                 3297714          8103.65  \n",
              "414                 759876           982.70  \n",
              "1929                282973           326.05  \n",
              "1712                843703           772.19  \n",
              "1456               6884754         11380.33  \n",
              "1847                702620           712.06  \n",
              "288                2140964          3622.90  \n",
              "1747                759717           693.80  "
            ],
            "text/html": [
              "\n",
              "  <div id=\"df-46a398a0-47a6-4f3c-9632-ecf86067400f\">\n",
              "    <div class=\"colab-df-container\">\n",
              "      <div>\n",
              "<style scoped>\n",
              "    .dataframe tbody tr th:only-of-type {\n",
              "        vertical-align: middle;\n",
              "    }\n",
              "\n",
              "    .dataframe tbody tr th {\n",
              "        vertical-align: top;\n",
              "    }\n",
              "\n",
              "    .dataframe thead th {\n",
              "        text-align: right;\n",
              "    }\n",
              "</style>\n",
              "<table border=\"1\" class=\"dataframe\">\n",
              "  <thead>\n",
              "    <tr style=\"text-align: right;\">\n",
              "      <th></th>\n",
              "      <th>Date</th>\n",
              "      <th>Open</th>\n",
              "      <th>High</th>\n",
              "      <th>Low</th>\n",
              "      <th>Last</th>\n",
              "      <th>Close</th>\n",
              "      <th>Total Trade Quantity</th>\n",
              "      <th>Turnover (Lacs)</th>\n",
              "    </tr>\n",
              "  </thead>\n",
              "  <tbody>\n",
              "    <tr>\n",
              "      <th>1283</th>\n",
              "      <td>2013-07-18</td>\n",
              "      <td>157.60</td>\n",
              "      <td>158.30</td>\n",
              "      <td>153.40</td>\n",
              "      <td>155.10</td>\n",
              "      <td>154.95</td>\n",
              "      <td>2383891</td>\n",
              "      <td>3718.86</td>\n",
              "    </tr>\n",
              "    <tr>\n",
              "      <th>1767</th>\n",
              "      <td>2011-08-10</td>\n",
              "      <td>104.80</td>\n",
              "      <td>109.60</td>\n",
              "      <td>101.20</td>\n",
              "      <td>105.60</td>\n",
              "      <td>106.65</td>\n",
              "      <td>5475703</td>\n",
              "      <td>5783.08</td>\n",
              "    </tr>\n",
              "    <tr>\n",
              "      <th>91</th>\n",
              "      <td>2018-05-18</td>\n",
              "      <td>248.30</td>\n",
              "      <td>248.95</td>\n",
              "      <td>243.35</td>\n",
              "      <td>245.10</td>\n",
              "      <td>244.70</td>\n",
              "      <td>3297714</td>\n",
              "      <td>8103.65</td>\n",
              "    </tr>\n",
              "    <tr>\n",
              "      <th>414</th>\n",
              "      <td>2017-01-27</td>\n",
              "      <td>128.35</td>\n",
              "      <td>129.95</td>\n",
              "      <td>128.35</td>\n",
              "      <td>128.80</td>\n",
              "      <td>129.20</td>\n",
              "      <td>759876</td>\n",
              "      <td>982.70</td>\n",
              "    </tr>\n",
              "    <tr>\n",
              "      <th>1929</th>\n",
              "      <td>2010-12-20</td>\n",
              "      <td>115.00</td>\n",
              "      <td>115.90</td>\n",
              "      <td>114.00</td>\n",
              "      <td>115.60</td>\n",
              "      <td>115.45</td>\n",
              "      <td>282973</td>\n",
              "      <td>326.05</td>\n",
              "    </tr>\n",
              "    <tr>\n",
              "      <th>1712</th>\n",
              "      <td>2011-11-02</td>\n",
              "      <td>91.00</td>\n",
              "      <td>92.60</td>\n",
              "      <td>90.55</td>\n",
              "      <td>91.15</td>\n",
              "      <td>91.15</td>\n",
              "      <td>843703</td>\n",
              "      <td>772.19</td>\n",
              "    </tr>\n",
              "    <tr>\n",
              "      <th>1456</th>\n",
              "      <td>2012-11-08</td>\n",
              "      <td>158.45</td>\n",
              "      <td>167.90</td>\n",
              "      <td>157.85</td>\n",
              "      <td>167.80</td>\n",
              "      <td>167.35</td>\n",
              "      <td>6884754</td>\n",
              "      <td>11380.33</td>\n",
              "    </tr>\n",
              "    <tr>\n",
              "      <th>1847</th>\n",
              "      <td>2011-04-19</td>\n",
              "      <td>100.50</td>\n",
              "      <td>102.50</td>\n",
              "      <td>100.05</td>\n",
              "      <td>101.45</td>\n",
              "      <td>101.45</td>\n",
              "      <td>702620</td>\n",
              "      <td>712.06</td>\n",
              "    </tr>\n",
              "    <tr>\n",
              "      <th>288</th>\n",
              "      <td>2017-08-01</td>\n",
              "      <td>171.00</td>\n",
              "      <td>171.75</td>\n",
              "      <td>166.75</td>\n",
              "      <td>167.80</td>\n",
              "      <td>167.50</td>\n",
              "      <td>2140964</td>\n",
              "      <td>3622.90</td>\n",
              "    </tr>\n",
              "    <tr>\n",
              "      <th>1747</th>\n",
              "      <td>2011-09-12</td>\n",
              "      <td>92.00</td>\n",
              "      <td>92.50</td>\n",
              "      <td>90.25</td>\n",
              "      <td>91.15</td>\n",
              "      <td>91.05</td>\n",
              "      <td>759717</td>\n",
              "      <td>693.80</td>\n",
              "    </tr>\n",
              "  </tbody>\n",
              "</table>\n",
              "</div>\n",
              "      <button class=\"colab-df-convert\" onclick=\"convertToInteractive('df-46a398a0-47a6-4f3c-9632-ecf86067400f')\"\n",
              "              title=\"Convert this dataframe to an interactive table.\"\n",
              "              style=\"display:none;\">\n",
              "        \n",
              "  <svg xmlns=\"http://www.w3.org/2000/svg\" height=\"24px\"viewBox=\"0 0 24 24\"\n",
              "       width=\"24px\">\n",
              "    <path d=\"M0 0h24v24H0V0z\" fill=\"none\"/>\n",
              "    <path d=\"M18.56 5.44l.94 2.06.94-2.06 2.06-.94-2.06-.94-.94-2.06-.94 2.06-2.06.94zm-11 1L8.5 8.5l.94-2.06 2.06-.94-2.06-.94L8.5 2.5l-.94 2.06-2.06.94zm10 10l.94 2.06.94-2.06 2.06-.94-2.06-.94-.94-2.06-.94 2.06-2.06.94z\"/><path d=\"M17.41 7.96l-1.37-1.37c-.4-.4-.92-.59-1.43-.59-.52 0-1.04.2-1.43.59L10.3 9.45l-7.72 7.72c-.78.78-.78 2.05 0 2.83L4 21.41c.39.39.9.59 1.41.59.51 0 1.02-.2 1.41-.59l7.78-7.78 2.81-2.81c.8-.78.8-2.07 0-2.86zM5.41 20L4 18.59l7.72-7.72 1.47 1.35L5.41 20z\"/>\n",
              "  </svg>\n",
              "      </button>\n",
              "      \n",
              "  <style>\n",
              "    .colab-df-container {\n",
              "      display:flex;\n",
              "      flex-wrap:wrap;\n",
              "      gap: 12px;\n",
              "    }\n",
              "\n",
              "    .colab-df-convert {\n",
              "      background-color: #E8F0FE;\n",
              "      border: none;\n",
              "      border-radius: 50%;\n",
              "      cursor: pointer;\n",
              "      display: none;\n",
              "      fill: #1967D2;\n",
              "      height: 32px;\n",
              "      padding: 0 0 0 0;\n",
              "      width: 32px;\n",
              "    }\n",
              "\n",
              "    .colab-df-convert:hover {\n",
              "      background-color: #E2EBFA;\n",
              "      box-shadow: 0px 1px 2px rgba(60, 64, 67, 0.3), 0px 1px 3px 1px rgba(60, 64, 67, 0.15);\n",
              "      fill: #174EA6;\n",
              "    }\n",
              "\n",
              "    [theme=dark] .colab-df-convert {\n",
              "      background-color: #3B4455;\n",
              "      fill: #D2E3FC;\n",
              "    }\n",
              "\n",
              "    [theme=dark] .colab-df-convert:hover {\n",
              "      background-color: #434B5C;\n",
              "      box-shadow: 0px 1px 3px 1px rgba(0, 0, 0, 0.15);\n",
              "      filter: drop-shadow(0px 1px 2px rgba(0, 0, 0, 0.3));\n",
              "      fill: #FFFFFF;\n",
              "    }\n",
              "  </style>\n",
              "\n",
              "      <script>\n",
              "        const buttonEl =\n",
              "          document.querySelector('#df-46a398a0-47a6-4f3c-9632-ecf86067400f button.colab-df-convert');\n",
              "        buttonEl.style.display =\n",
              "          google.colab.kernel.accessAllowed ? 'block' : 'none';\n",
              "\n",
              "        async function convertToInteractive(key) {\n",
              "          const element = document.querySelector('#df-46a398a0-47a6-4f3c-9632-ecf86067400f');\n",
              "          const dataTable =\n",
              "            await google.colab.kernel.invokeFunction('convertToInteractive',\n",
              "                                                     [key], {});\n",
              "          if (!dataTable) return;\n",
              "\n",
              "          const docLinkHtml = 'Like what you see? Visit the ' +\n",
              "            '<a target=\"_blank\" href=https://colab.research.google.com/notebooks/data_table.ipynb>data table notebook</a>'\n",
              "            + ' to learn more about interactive tables.';\n",
              "          element.innerHTML = '';\n",
              "          dataTable['output_type'] = 'display_data';\n",
              "          await google.colab.output.renderOutput(dataTable, element);\n",
              "          const docLink = document.createElement('div');\n",
              "          docLink.innerHTML = docLinkHtml;\n",
              "          element.appendChild(docLink);\n",
              "        }\n",
              "      </script>\n",
              "    </div>\n",
              "  </div>\n",
              "  "
            ]
          },
          "metadata": {},
          "execution_count": 4
        }
      ]
    },
    {
      "cell_type": "code",
      "source": [
        "df.columns"
      ],
      "metadata": {
        "colab": {
          "base_uri": "https://localhost:8080/"
        },
        "id": "otSGRG2uuL5c",
        "outputId": "61a3e37a-7a90-4aed-bc95-ca0ff2c49a40"
      },
      "execution_count": 5,
      "outputs": [
        {
          "output_type": "execute_result",
          "data": {
            "text/plain": [
              "Index(['Date', 'Open', 'High', 'Low', 'Last', 'Close', 'Total Trade Quantity',\n",
              "       'Turnover (Lacs)'],\n",
              "      dtype='object')"
            ]
          },
          "metadata": {},
          "execution_count": 5
        }
      ]
    },
    {
      "cell_type": "code",
      "source": [
        "df.shape"
      ],
      "metadata": {
        "colab": {
          "base_uri": "https://localhost:8080/"
        },
        "id": "PICCBVxsuORc",
        "outputId": "b6fc3828-7417-4bed-d8c8-4b027803f4bd"
      },
      "execution_count": 6,
      "outputs": [
        {
          "output_type": "execute_result",
          "data": {
            "text/plain": [
              "(2035, 8)"
            ]
          },
          "metadata": {},
          "execution_count": 6
        }
      ]
    },
    {
      "cell_type": "code",
      "source": [
        "df.info()"
      ],
      "metadata": {
        "colab": {
          "base_uri": "https://localhost:8080/"
        },
        "id": "hKGTKMiwuVa8",
        "outputId": "32f2aef9-2dcb-433d-f038-d8eb9f82da73"
      },
      "execution_count": 7,
      "outputs": [
        {
          "output_type": "stream",
          "name": "stdout",
          "text": [
            "<class 'pandas.core.frame.DataFrame'>\n",
            "RangeIndex: 2035 entries, 0 to 2034\n",
            "Data columns (total 8 columns):\n",
            " #   Column                Non-Null Count  Dtype  \n",
            "---  ------                --------------  -----  \n",
            " 0   Date                  2035 non-null   object \n",
            " 1   Open                  2035 non-null   float64\n",
            " 2   High                  2035 non-null   float64\n",
            " 3   Low                   2035 non-null   float64\n",
            " 4   Last                  2035 non-null   float64\n",
            " 5   Close                 2035 non-null   float64\n",
            " 6   Total Trade Quantity  2035 non-null   int64  \n",
            " 7   Turnover (Lacs)       2035 non-null   float64\n",
            "dtypes: float64(6), int64(1), object(1)\n",
            "memory usage: 127.3+ KB\n"
          ]
        }
      ]
    },
    {
      "cell_type": "code",
      "source": [
        "df.isnull().sum()"
      ],
      "metadata": {
        "colab": {
          "base_uri": "https://localhost:8080/"
        },
        "id": "tGhNnB5auaMw",
        "outputId": "058a7d61-9205-49a3-c0c4-a9347462647d"
      },
      "execution_count": 8,
      "outputs": [
        {
          "output_type": "execute_result",
          "data": {
            "text/plain": [
              "Date                    0\n",
              "Open                    0\n",
              "High                    0\n",
              "Low                     0\n",
              "Last                    0\n",
              "Close                   0\n",
              "Total Trade Quantity    0\n",
              "Turnover (Lacs)         0\n",
              "dtype: int64"
            ]
          },
          "metadata": {},
          "execution_count": 8
        }
      ]
    },
    {
      "cell_type": "code",
      "source": [
        "df.describe()"
      ],
      "metadata": {
        "colab": {
          "base_uri": "https://localhost:8080/",
          "height": 300
        },
        "id": "4oyiMugZuc73",
        "outputId": "962bfd1d-2ce6-4411-c995-50ca0af19f08"
      },
      "execution_count": 9,
      "outputs": [
        {
          "output_type": "execute_result",
          "data": {
            "text/plain": [
              "              Open         High          Low         Last       Close  \\\n",
              "count  2035.000000  2035.000000  2035.000000  2035.000000  2035.00000   \n",
              "mean    149.713735   151.992826   147.293931   149.474251   149.45027   \n",
              "std      48.664509    49.413109    47.931958    48.732570    48.71204   \n",
              "min      81.100000    82.800000    80.000000    81.000000    80.95000   \n",
              "25%     120.025000   122.100000   118.300000   120.075000   120.05000   \n",
              "50%     141.500000   143.400000   139.600000   141.100000   141.25000   \n",
              "75%     157.175000   159.400000   155.150000   156.925000   156.90000   \n",
              "max     327.700000   328.750000   321.650000   325.950000   325.75000   \n",
              "\n",
              "       Total Trade Quantity  Turnover (Lacs)  \n",
              "count          2.035000e+03      2035.000000  \n",
              "mean           2.335681e+06      3899.980565  \n",
              "std            2.091778e+06      4570.767877  \n",
              "min            3.961000e+04        37.040000  \n",
              "25%            1.146444e+06      1427.460000  \n",
              "50%            1.783456e+06      2512.030000  \n",
              "75%            2.813594e+06      4539.015000  \n",
              "max            2.919102e+07     55755.080000  "
            ],
            "text/html": [
              "\n",
              "  <div id=\"df-3e229add-f8d2-4efe-83d3-83dae5d8eb69\">\n",
              "    <div class=\"colab-df-container\">\n",
              "      <div>\n",
              "<style scoped>\n",
              "    .dataframe tbody tr th:only-of-type {\n",
              "        vertical-align: middle;\n",
              "    }\n",
              "\n",
              "    .dataframe tbody tr th {\n",
              "        vertical-align: top;\n",
              "    }\n",
              "\n",
              "    .dataframe thead th {\n",
              "        text-align: right;\n",
              "    }\n",
              "</style>\n",
              "<table border=\"1\" class=\"dataframe\">\n",
              "  <thead>\n",
              "    <tr style=\"text-align: right;\">\n",
              "      <th></th>\n",
              "      <th>Open</th>\n",
              "      <th>High</th>\n",
              "      <th>Low</th>\n",
              "      <th>Last</th>\n",
              "      <th>Close</th>\n",
              "      <th>Total Trade Quantity</th>\n",
              "      <th>Turnover (Lacs)</th>\n",
              "    </tr>\n",
              "  </thead>\n",
              "  <tbody>\n",
              "    <tr>\n",
              "      <th>count</th>\n",
              "      <td>2035.000000</td>\n",
              "      <td>2035.000000</td>\n",
              "      <td>2035.000000</td>\n",
              "      <td>2035.000000</td>\n",
              "      <td>2035.00000</td>\n",
              "      <td>2.035000e+03</td>\n",
              "      <td>2035.000000</td>\n",
              "    </tr>\n",
              "    <tr>\n",
              "      <th>mean</th>\n",
              "      <td>149.713735</td>\n",
              "      <td>151.992826</td>\n",
              "      <td>147.293931</td>\n",
              "      <td>149.474251</td>\n",
              "      <td>149.45027</td>\n",
              "      <td>2.335681e+06</td>\n",
              "      <td>3899.980565</td>\n",
              "    </tr>\n",
              "    <tr>\n",
              "      <th>std</th>\n",
              "      <td>48.664509</td>\n",
              "      <td>49.413109</td>\n",
              "      <td>47.931958</td>\n",
              "      <td>48.732570</td>\n",
              "      <td>48.71204</td>\n",
              "      <td>2.091778e+06</td>\n",
              "      <td>4570.767877</td>\n",
              "    </tr>\n",
              "    <tr>\n",
              "      <th>min</th>\n",
              "      <td>81.100000</td>\n",
              "      <td>82.800000</td>\n",
              "      <td>80.000000</td>\n",
              "      <td>81.000000</td>\n",
              "      <td>80.95000</td>\n",
              "      <td>3.961000e+04</td>\n",
              "      <td>37.040000</td>\n",
              "    </tr>\n",
              "    <tr>\n",
              "      <th>25%</th>\n",
              "      <td>120.025000</td>\n",
              "      <td>122.100000</td>\n",
              "      <td>118.300000</td>\n",
              "      <td>120.075000</td>\n",
              "      <td>120.05000</td>\n",
              "      <td>1.146444e+06</td>\n",
              "      <td>1427.460000</td>\n",
              "    </tr>\n",
              "    <tr>\n",
              "      <th>50%</th>\n",
              "      <td>141.500000</td>\n",
              "      <td>143.400000</td>\n",
              "      <td>139.600000</td>\n",
              "      <td>141.100000</td>\n",
              "      <td>141.25000</td>\n",
              "      <td>1.783456e+06</td>\n",
              "      <td>2512.030000</td>\n",
              "    </tr>\n",
              "    <tr>\n",
              "      <th>75%</th>\n",
              "      <td>157.175000</td>\n",
              "      <td>159.400000</td>\n",
              "      <td>155.150000</td>\n",
              "      <td>156.925000</td>\n",
              "      <td>156.90000</td>\n",
              "      <td>2.813594e+06</td>\n",
              "      <td>4539.015000</td>\n",
              "    </tr>\n",
              "    <tr>\n",
              "      <th>max</th>\n",
              "      <td>327.700000</td>\n",
              "      <td>328.750000</td>\n",
              "      <td>321.650000</td>\n",
              "      <td>325.950000</td>\n",
              "      <td>325.75000</td>\n",
              "      <td>2.919102e+07</td>\n",
              "      <td>55755.080000</td>\n",
              "    </tr>\n",
              "  </tbody>\n",
              "</table>\n",
              "</div>\n",
              "      <button class=\"colab-df-convert\" onclick=\"convertToInteractive('df-3e229add-f8d2-4efe-83d3-83dae5d8eb69')\"\n",
              "              title=\"Convert this dataframe to an interactive table.\"\n",
              "              style=\"display:none;\">\n",
              "        \n",
              "  <svg xmlns=\"http://www.w3.org/2000/svg\" height=\"24px\"viewBox=\"0 0 24 24\"\n",
              "       width=\"24px\">\n",
              "    <path d=\"M0 0h24v24H0V0z\" fill=\"none\"/>\n",
              "    <path d=\"M18.56 5.44l.94 2.06.94-2.06 2.06-.94-2.06-.94-.94-2.06-.94 2.06-2.06.94zm-11 1L8.5 8.5l.94-2.06 2.06-.94-2.06-.94L8.5 2.5l-.94 2.06-2.06.94zm10 10l.94 2.06.94-2.06 2.06-.94-2.06-.94-.94-2.06-.94 2.06-2.06.94z\"/><path d=\"M17.41 7.96l-1.37-1.37c-.4-.4-.92-.59-1.43-.59-.52 0-1.04.2-1.43.59L10.3 9.45l-7.72 7.72c-.78.78-.78 2.05 0 2.83L4 21.41c.39.39.9.59 1.41.59.51 0 1.02-.2 1.41-.59l7.78-7.78 2.81-2.81c.8-.78.8-2.07 0-2.86zM5.41 20L4 18.59l7.72-7.72 1.47 1.35L5.41 20z\"/>\n",
              "  </svg>\n",
              "      </button>\n",
              "      \n",
              "  <style>\n",
              "    .colab-df-container {\n",
              "      display:flex;\n",
              "      flex-wrap:wrap;\n",
              "      gap: 12px;\n",
              "    }\n",
              "\n",
              "    .colab-df-convert {\n",
              "      background-color: #E8F0FE;\n",
              "      border: none;\n",
              "      border-radius: 50%;\n",
              "      cursor: pointer;\n",
              "      display: none;\n",
              "      fill: #1967D2;\n",
              "      height: 32px;\n",
              "      padding: 0 0 0 0;\n",
              "      width: 32px;\n",
              "    }\n",
              "\n",
              "    .colab-df-convert:hover {\n",
              "      background-color: #E2EBFA;\n",
              "      box-shadow: 0px 1px 2px rgba(60, 64, 67, 0.3), 0px 1px 3px 1px rgba(60, 64, 67, 0.15);\n",
              "      fill: #174EA6;\n",
              "    }\n",
              "\n",
              "    [theme=dark] .colab-df-convert {\n",
              "      background-color: #3B4455;\n",
              "      fill: #D2E3FC;\n",
              "    }\n",
              "\n",
              "    [theme=dark] .colab-df-convert:hover {\n",
              "      background-color: #434B5C;\n",
              "      box-shadow: 0px 1px 3px 1px rgba(0, 0, 0, 0.15);\n",
              "      filter: drop-shadow(0px 1px 2px rgba(0, 0, 0, 0.3));\n",
              "      fill: #FFFFFF;\n",
              "    }\n",
              "  </style>\n",
              "\n",
              "      <script>\n",
              "        const buttonEl =\n",
              "          document.querySelector('#df-3e229add-f8d2-4efe-83d3-83dae5d8eb69 button.colab-df-convert');\n",
              "        buttonEl.style.display =\n",
              "          google.colab.kernel.accessAllowed ? 'block' : 'none';\n",
              "\n",
              "        async function convertToInteractive(key) {\n",
              "          const element = document.querySelector('#df-3e229add-f8d2-4efe-83d3-83dae5d8eb69');\n",
              "          const dataTable =\n",
              "            await google.colab.kernel.invokeFunction('convertToInteractive',\n",
              "                                                     [key], {});\n",
              "          if (!dataTable) return;\n",
              "\n",
              "          const docLinkHtml = 'Like what you see? Visit the ' +\n",
              "            '<a target=\"_blank\" href=https://colab.research.google.com/notebooks/data_table.ipynb>data table notebook</a>'\n",
              "            + ' to learn more about interactive tables.';\n",
              "          element.innerHTML = '';\n",
              "          dataTable['output_type'] = 'display_data';\n",
              "          await google.colab.output.renderOutput(dataTable, element);\n",
              "          const docLink = document.createElement('div');\n",
              "          docLink.innerHTML = docLinkHtml;\n",
              "          element.appendChild(docLink);\n",
              "        }\n",
              "      </script>\n",
              "    </div>\n",
              "  </div>\n",
              "  "
            ]
          },
          "metadata": {},
          "execution_count": 9
        }
      ]
    },
    {
      "cell_type": "code",
      "source": [
        "plt.figure(figsize=(10,6))\n",
        "df['Close'].plot(kind='line',figsize=(16,7),color='r',label=\"Closing Price\")\n",
        "\n",
        "plt.ylabel(\"Price\")\n",
        "plt.legend(loc=\"upper right\")\n",
        "plt.title(\"Change in closing price over the years\")\n",
        "plt.grid()"
      ],
      "metadata": {
        "colab": {
          "base_uri": "https://localhost:8080/",
          "height": 444
        },
        "id": "KQyLHpp9ufha",
        "outputId": "42938260-47d6-42c9-f858-de2d6a44ca9b"
      },
      "execution_count": 10,
      "outputs": [
        {
          "output_type": "display_data",
          "data": {
            "text/plain": [
              "<Figure size 1152x504 with 1 Axes>"
            ],
            "image/png": "[encoded data removed]"
          },
          "metadata": {
            "needs_background": "light"
          }
        }
      ]
    },
    {
      "cell_type": "code",
      "source": [
        "plt.figure(figsize=(10,6))\n",
        "df['Open'].plot(kind='line',figsize=(16,7),color='y',label=\"Opening Price\")\n",
        "\n",
        "plt.ylabel(\"Price\")\n",
        "plt.legend(loc=\"upper left\")\n",
        "plt.title(\"Change in opening price over the years\")\n",
        "plt.grid()"
      ],
      "metadata": {
        "colab": {
          "base_uri": "https://localhost:8080/",
          "height": 444
        },
        "id": "V1uoEqo2uio9",
        "outputId": "507d1da5-9651-467b-a042-a0934b3b9aa2"
      },
      "execution_count": 11,
      "outputs": [
        {
          "output_type": "display_data",
          "data": {
            "text/plain": [
              "<Figure size 1152x504 with 1 Axes>"
            ],
            "image/png": "[encoded data removed]"
          },
          "metadata": {
            "needs_background": "light"
          }
        }
      ]
    },
    {
      "cell_type": "code",
      "source": [
        "df1=df.reset_index()['Close']\n",
        "df1"
      ],
      "metadata": {
        "colab": {
          "base_uri": "https://localhost:8080/"
        },
        "id": "eqMefvYFuupd",
        "outputId": "59d7a087-85a2-4668-fc41-d390c0aec5e9"
      },
      "execution_count": 12,
      "outputs": [
        {
          "output_type": "execute_result",
          "data": {
            "text/plain": [
              "0       233.75\n",
              "1       233.25\n",
              "2       234.25\n",
              "3       236.10\n",
              "4       233.30\n",
              "         ...  \n",
              "2030    118.65\n",
              "2031    117.60\n",
              "2032    120.65\n",
              "2033    120.90\n",
              "2034    121.55\n",
              "Name: Close, Length: 2035, dtype: float64"
            ]
          },
          "metadata": {},
          "execution_count": 12
        }
      ]
    },
    {
      "cell_type": "code",
      "source": [
        "plt.figure(figsize=(12,6))\n",
        "sns.heatmap(df.corr(),annot=True,cmap='BuPu')"
      ],
      "metadata": {
        "colab": {
          "base_uri": "https://localhost:8080/",
          "height": 485
        },
        "id": "ZEW_PxFZuwy2",
        "outputId": "80075b61-e743-4a6f-e84c-1ef624003bf0"
      },
      "execution_count": 13,
      "outputs": [
        {
          "output_type": "execute_result",
          "data": {
            "text/plain": [
              "<matplotlib.axes._subplots.AxesSubplot at 0x7f3f17376450>"
            ]
          },
          "metadata": {},
          "execution_count": 13
        },
        {
          "output_type": "display_data",
          "data": {
            "text/plain": [
              "<Figure size 864x432 with 2 Axes>"
            ],
            "image/png": "[encoded data removed]"
          },
          "metadata": {
            "needs_background": "light"
          }
        }
      ]
    },
    {
      "cell_type": "code",
      "source": [
        "plt.figure(figsize=(11,5))\n",
        "plt.subplot(1,2,1)\n",
        "sns.boxplot(data=df,y='Total Trade Quantity',color='blue')\n",
        "plt.subplot(1,2,2)\n",
        "sns.boxplot(data=df,y='Turnover (Lacs)',color='red')"
      ],
      "metadata": {
        "colab": {
          "base_uri": "https://localhost:8080/",
          "height": 334
        },
        "id": "wiBulJoEu0Of",
        "outputId": "8ae4a292-4dac-42c0-ae5c-8147a33510f5"
      },
      "execution_count": 14,
      "outputs": [
        {
          "output_type": "execute_result",
          "data": {
            "text/plain": [
              "<matplotlib.axes._subplots.AxesSubplot at 0x7f3f149e6210>"
            ]
          },
          "metadata": {},
          "execution_count": 14
        },
        {
          "output_type": "display_data",
          "data": {
            "text/plain": [
              "<Figure size 792x360 with 2 Axes>"
            ],
            "image/png": "[encoded data removed]"
          },
          "metadata": {
            "needs_background": "light"
          }
        }
      ]
    },
    {
      "cell_type": "code",
      "source": [
        "fig=plt.figure(figsize=(7,6))\n",
        "plt.scatter(df['Total Trade Quantity'],df['Turnover (Lacs)'], alpha=0.5, edgecolor='r', color='cyan')\n",
        "plt.xlabel(\"Trade Quantity (in 100000)\")\n",
        "plt.ylabel(\"Turnover (in lacs)\")\n",
        "plt.title(\" Selling Units Vs Turnover\")\n",
        "plt.show()"
      ],
      "metadata": {
        "colab": {
          "base_uri": "https://localhost:8080/",
          "height": 404
        },
        "id": "yy3MtN2Cu2fG",
        "outputId": "0a98ff44-1eda-4db2-c301-4bb6c81eb6f3"
      },
      "execution_count": 15,
      "outputs": [
        {
          "output_type": "display_data",
          "data": {
            "text/plain": [
              "<Figure size 504x432 with 1 Axes>"
            ],
            "image/png": "[encoded data removed]"
          },
          "metadata": {
            "needs_background": "light"
          }
        }
      ]
    },
    {
      "cell_type": "code",
      "source": [
        "training_set= df[['Open']]\n",
        "training_set=pd.DataFrame(training_set)\n",
        "training_set"
      ],
      "metadata": {
        "colab": {
          "base_uri": "https://localhost:8080/",
          "height": 424
        },
        "id": "viVhvOpgu6Wn",
        "outputId": "bfa27aa7-c289-48bf-ca11-8e689b260c29"
      },
      "execution_count": 16,
      "outputs": [
        {
          "output_type": "execute_result",
          "data": {
            "text/plain": [
              "        Open\n",
              "0     234.05\n",
              "1     234.55\n",
              "2     240.00\n",
              "3     233.30\n",
              "4     233.55\n",
              "...      ...\n",
              "2030  117.60\n",
              "2031  120.10\n",
              "2032  121.80\n",
              "2033  120.30\n",
              "2034  122.10\n",
              "\n",
              "[2035 rows x 1 columns]"
            ],
            "text/html": [
              "\n",
              "  <div id=\"df-67c68d22-ff8f-40d3-bf68-d939dc593dd4\">\n",
              "    <div class=\"colab-df-container\">\n",
              "      <div>\n",
              "<style scoped>\n",
              "    .dataframe tbody tr th:only-of-type {\n",
              "        vertical-align: middle;\n",
              "    }\n",
              "\n",
              "    .dataframe tbody tr th {\n",
              "        vertical-align: top;\n",
              "    }\n",
              "\n",
              "    .dataframe thead th {\n",
              "        text-align: right;\n",
              "    }\n",
              "</style>\n",
              "<table border=\"1\" class=\"dataframe\">\n",
              "  <thead>\n",
              "    <tr style=\"text-align: right;\">\n",
              "      <th></th>\n",
              "      <th>Open</th>\n",
              "    </tr>\n",
              "  </thead>\n",
              "  <tbody>\n",
              "    <tr>\n",
              "      <th>0</th>\n",
              "      <td>234.05</td>\n",
              "    </tr>\n",
              "    <tr>\n",
              "      <th>1</th>\n",
              "      <td>234.55</td>\n",
              "    </tr>\n",
              "    <tr>\n",
              "      <th>2</th>\n",
              "      <td>240.00</td>\n",
              "    </tr>\n",
              "    <tr>\n",
              "      <th>3</th>\n",
              "      <td>233.30</td>\n",
              "    </tr>\n",
              "    <tr>\n",
              "      <th>4</th>\n",
              "      <td>233.55</td>\n",
              "    </tr>\n",
              "    <tr>\n",
              "      <th>...</th>\n",
              "      <td>...</td>\n",
              "    </tr>\n",
              "    <tr>\n",
              "      <th>2030</th>\n",
              "      <td>117.60</td>\n",
              "    </tr>\n",
              "    <tr>\n",
              "      <th>2031</th>\n",
              "      <td>120.10</td>\n",
              "    </tr>\n",
              "    <tr>\n",
              "      <th>2032</th>\n",
              "      <td>121.80</td>\n",
              "    </tr>\n",
              "    <tr>\n",
              "      <th>2033</th>\n",
              "      <td>120.30</td>\n",
              "    </tr>\n",
              "    <tr>\n",
              "      <th>2034</th>\n",
              "      <td>122.10</td>\n",
              "    </tr>\n",
              "  </tbody>\n",
              "</table>\n",
              "<p>2035 rows × 1 columns</p>\n",
              "</div>\n",
              "      <button class=\"colab-df-convert\" onclick=\"convertToInteractive('df-67c68d22-ff8f-40d3-bf68-d939dc593dd4')\"\n",
              "              title=\"Convert this dataframe to an interactive table.\"\n",
              "              style=\"display:none;\">\n",
              "        \n",
              "  <svg xmlns=\"http://www.w3.org/2000/svg\" height=\"24px\"viewBox=\"0 0 24 24\"\n",
              "       width=\"24px\">\n",
              "    <path d=\"M0 0h24v24H0V0z\" fill=\"none\"/>\n",
              "    <path d=\"M18.56 5.44l.94 2.06.94-2.06 2.06-.94-2.06-.94-.94-2.06-.94 2.06-2.06.94zm-11 1L8.5 8.5l.94-2.06 2.06-.94-2.06-.94L8.5 2.5l-.94 2.06-2.06.94zm10 10l.94 2.06.94-2.06 2.06-.94-2.06-.94-.94-2.06-.94 2.06-2.06.94z\"/><path d=\"M17.41 7.96l-1.37-1.37c-.4-.4-.92-.59-1.43-.59-.52 0-1.04.2-1.43.59L10.3 9.45l-7.72 7.72c-.78.78-.78 2.05 0 2.83L4 21.41c.39.39.9.59 1.41.59.51 0 1.02-.2 1.41-.59l7.78-7.78 2.81-2.81c.8-.78.8-2.07 0-2.86zM5.41 20L4 18.59l7.72-7.72 1.47 1.35L5.41 20z\"/>\n",
              "  </svg>\n",
              "      </button>\n",
              "      \n",
              "  <style>\n",
              "    .colab-df-container {\n",
              "      display:flex;\n",
              "      flex-wrap:wrap;\n",
              "      gap: 12px;\n",
              "    }\n",
              "\n",
              "    .colab-df-convert {\n",
              "      background-color: #E8F0FE;\n",
              "      border: none;\n",
              "      border-radius: 50%;\n",
              "      cursor: pointer;\n",
              "      display: none;\n",
              "      fill: #1967D2;\n",
              "      height: 32px;\n",
              "      padding: 0 0 0 0;\n",
              "      width: 32px;\n",
              "    }\n",
              "\n",
              "    .colab-df-convert:hover {\n",
              "      background-color: #E2EBFA;\n",
              "      box-shadow: 0px 1px 2px rgba(60, 64, 67, 0.3), 0px 1px 3px 1px rgba(60, 64, 67, 0.15);\n",
              "      fill: #174EA6;\n",
              "    }\n",
              "\n",
              "    [theme=dark] .colab-df-convert {\n",
              "      background-color: #3B4455;\n",
              "      fill: #D2E3FC;\n",
              "    }\n",
              "\n",
              "    [theme=dark] .colab-df-convert:hover {\n",
              "      background-color: #434B5C;\n",
              "      box-shadow: 0px 1px 3px 1px rgba(0, 0, 0, 0.15);\n",
              "      filter: drop-shadow(0px 1px 2px rgba(0, 0, 0, 0.3));\n",
              "      fill: #FFFFFF;\n",
              "    }\n",
              "  </style>\n",
              "\n",
              "      <script>\n",
              "        const buttonEl =\n",
              "          document.querySelector('#df-67c68d22-ff8f-40d3-bf68-d939dc593dd4 button.colab-df-convert');\n",
              "        buttonEl.style.display =\n",
              "          google.colab.kernel.accessAllowed ? 'block' : 'none';\n",
              "\n",
              "        async function convertToInteractive(key) {\n",
              "          const element = document.querySelector('#df-67c68d22-ff8f-40d3-bf68-d939dc593dd4');\n",
              "          const dataTable =\n",
              "            await google.colab.kernel.invokeFunction('convertToInteractive',\n",
              "                                                     [key], {});\n",
              "          if (!dataTable) return;\n",
              "\n",
              "          const docLinkHtml = 'Like what you see? Visit the ' +\n",
              "            '<a target=\"_blank\" href=https://colab.research.google.com/notebooks/data_table.ipynb>data table notebook</a>'\n",
              "            + ' to learn more about interactive tables.';\n",
              "          element.innerHTML = '';\n",
              "          dataTable['output_type'] = 'display_data';\n",
              "          await google.colab.output.renderOutput(dataTable, element);\n",
              "          const docLink = document.createElement('div');\n",
              "          docLink.innerHTML = docLinkHtml;\n",
              "          element.appendChild(docLink);\n",
              "        }\n",
              "      </script>\n",
              "    </div>\n",
              "  </div>\n",
              "  "
            ]
          },
          "metadata": {},
          "execution_count": 16
        }
      ]
    },
    {
      "cell_type": "code",
      "source": [
        "scaler=MinMaxScaler(feature_range=(0,1))\n",
        "training_set_scaler=scaler.fit_transform(np.array(df1).reshape(-1,1))"
      ],
      "metadata": {
        "id": "vaRAroUou8ph"
      },
      "execution_count": 17,
      "outputs": []
    },
    {
      "cell_type": "code",
      "source": [
        "training_set_scaler"
      ],
      "metadata": {
        "colab": {
          "base_uri": "https://localhost:8080/"
        },
        "id": "3Pc-be4eu_Cx",
        "outputId": "ec34e02e-3923-485f-891c-a213f9b7cb85"
      },
      "execution_count": 18,
      "outputs": [
        {
          "output_type": "execute_result",
          "data": {
            "text/plain": [
              "array([[0.62418301],\n",
              "       [0.62214052],\n",
              "       [0.62622549],\n",
              "       ...,\n",
              "       [0.1621732 ],\n",
              "       [0.16319444],\n",
              "       [0.16584967]])"
            ]
          },
          "metadata": {},
          "execution_count": 18
        }
      ]
    },
    {
      "cell_type": "code",
      "source": [],
      "metadata": {
        "id": "yX5X_Vo9vBH2"
      },
      "execution_count": 18,
      "outputs": []
    },
    {
      "cell_type": "code",
      "source": [
        "train_size1= int(len(training_set_scaler)*0.65)\n",
        "test_size1=int(len(training_set_scaler))-train_size1\n",
        "train_data1,test_data1=training_set_scaler[0:train_size1,:],training_set_scaler[train_size1:len(df),:1]"
      ],
      "metadata": {
        "id": "1KiY5szfvDBo"
      },
      "execution_count": 19,
      "outputs": []
    },
    {
      "cell_type": "code",
      "source": [
        "def create_dataset(dataset,time_step=1):\n",
        "    dataX, dataY = [], []\n",
        "    for i in range(len(dataset)-time_step-1):\n",
        "        a = dataset[i:(i+time_step), 0]   ###i=0, 0,1,2,3-----99   100 \n",
        "        dataX.append(a)\n",
        "        dataY.append(dataset[i + time_step, 0])\n",
        "    return np.array(dataX), np.array(dataY)"
      ],
      "metadata": {
        "id": "TO_YApHvvGNi"
      },
      "execution_count": 20,
      "outputs": []
    },
    {
      "cell_type": "code",
      "source": [
        "train_size1"
      ],
      "metadata": {
        "colab": {
          "base_uri": "https://localhost:8080/"
        },
        "id": "ZzRCrE7AvHtD",
        "outputId": "8f858bdc-ff64-492f-caa5-21a354ad9bb1"
      },
      "execution_count": 21,
      "outputs": [
        {
          "output_type": "execute_result",
          "data": {
            "text/plain": [
              "1322"
            ]
          },
          "metadata": {},
          "execution_count": 21
        }
      ]
    },
    {
      "cell_type": "code",
      "source": [
        "time_step=100\n",
        "x_train, y_train=create_dataset(train_data1, time_step)\n",
        "x_test, y_test= create_dataset(test_data1, time_step)\n",
        "print(x_train.shape,y_train.shape)"
      ],
      "metadata": {
        "colab": {
          "base_uri": "https://localhost:8080/"
        },
        "id": "-AVic7QevKRl",
        "outputId": "4590e093-5307-4e9e-c6d2-32d3a10ecf92"
      },
      "execution_count": 22,
      "outputs": [
        {
          "output_type": "stream",
          "name": "stdout",
          "text": [
            "(1221, 100) (1221,)\n"
          ]
        }
      ]
    },
    {
      "cell_type": "code",
      "source": [
        "x_test.shape"
      ],
      "metadata": {
        "colab": {
          "base_uri": "https://localhost:8080/"
        },
        "id": "25G4YZtlvM8G",
        "outputId": "69370f3c-1c4e-44f5-9ec9-2e12e49ae6f1"
      },
      "execution_count": 23,
      "outputs": [
        {
          "output_type": "execute_result",
          "data": {
            "text/plain": [
              "(612, 100)"
            ]
          },
          "metadata": {},
          "execution_count": 23
        }
      ]
    },
    {
      "cell_type": "code",
      "source": [
        "y_test.shape"
      ],
      "metadata": {
        "colab": {
          "base_uri": "https://localhost:8080/"
        },
        "id": "pRChNPccvTsu",
        "outputId": "a8776efc-a38b-47d9-c4fb-ef3d57ce23cc"
      },
      "execution_count": 24,
      "outputs": [
        {
          "output_type": "execute_result",
          "data": {
            "text/plain": [
              "(612,)"
            ]
          },
          "metadata": {},
          "execution_count": 24
        }
      ]
    },
    {
      "cell_type": "code",
      "source": [
        "x_train = x_train.reshape(x_train.shape[0],x_train.shape[1] , 1)\n",
        "x_test = x_test.reshape(x_test.shape[0],x_test.shape[1] , 1)\n",
        "model = Sequential()\n",
        "model.add(LSTM(50, return_sequences=True, input_shape=(100,1)))\n",
        "model.add(LSTM(50, return_sequences=True, input_shape=(100,1)))\n",
        "model.add(LSTM(50))\n",
        "model.add(Dense(1))\n",
        "model.compile(loss='mean_squared_error', optimizer='adam', metrics='acc')\n",
        "model.summary()"
      ],
      "metadata": {
        "colab": {
          "base_uri": "https://localhost:8080/"
        },
        "id": "vF3dzq8_vWtu",
        "outputId": "fd9f0f89-6b1a-4270-fd44-fe5ce0292362"
      },
      "execution_count": 25,
      "outputs": [
        {
          "output_type": "stream",
          "name": "stdout",
          "text": [
            "Model: \"sequential\"\n",
            "_________________________________________________________________\n",
            " Layer (type)                Output Shape              Param #   \n",
            "=================================================================\n",
            " lstm (LSTM)                 (None, 100, 50)           10400     \n",
            "                                                                 \n",
            " lstm_1 (LSTM)               (None, 100, 50)           20200     \n",
            "                                                                 \n",
            " lstm_2 (LSTM)               (None, 50)                20200     \n",
            "                                                                 \n",
            " dense (Dense)               (None, 1)                 51        \n",
            "                                                                 \n",
            "=================================================================\n",
            "Total params: 50,851\n",
            "Trainable params: 50,851\n",
            "Non-trainable params: 0\n",
            "_________________________________________________________________\n"
          ]
        }
      ]
    },
    {
      "cell_type": "code",
      "source": [
        "model.fit(x_train, y_train, validation_data = (x_test, y_test), epochs = 75, batch_size = 64, verbose = 1)"
      ],
      "metadata": {
        "colab": {
          "base_uri": "https://localhost:8080/"
        },
        "id": "A53vsGTrvZyf",
        "outputId": "6dbd1fa2-ca31-4090-95f7-4b0e071c6afd"
      },
      "execution_count": 26,
      "outputs": [
        {
          "output_type": "stream",
          "name": "stdout",
          "text": [
            "Epoch 1/75\n",
            "20/20 [==============================] - 8s 181ms/step - loss: 0.0198 - acc: 8.1900e-04 - val_loss: 0.0055 - val_acc: 0.0016\n",
            "Epoch 2/75\n",
            "20/20 [==============================] - 2s 119ms/step - loss: 0.0024 - acc: 8.1900e-04 - val_loss: 8.4836e-04 - val_acc: 0.0016\n",
            "Epoch 3/75\n",
            "20/20 [==============================] - 2s 118ms/step - loss: 0.0017 - acc: 8.1900e-04 - val_loss: 7.8384e-04 - val_acc: 0.0016\n",
            "Epoch 4/75\n",
            "20/20 [==============================] - 2s 119ms/step - loss: 0.0015 - acc: 8.1900e-04 - val_loss: 8.2049e-04 - val_acc: 0.0016\n",
            "Epoch 5/75\n",
            "20/20 [==============================] - 2s 118ms/step - loss: 0.0014 - acc: 8.1900e-04 - val_loss: 0.0010 - val_acc: 0.0016\n",
            "Epoch 6/75\n",
            "20/20 [==============================] - 2s 119ms/step - loss: 0.0013 - acc: 8.1900e-04 - val_loss: 7.3284e-04 - val_acc: 0.0016\n",
            "Epoch 7/75\n",
            "20/20 [==============================] - 2s 123ms/step - loss: 0.0013 - acc: 8.1900e-04 - val_loss: 8.2179e-04 - val_acc: 0.0016\n",
            "Epoch 8/75\n",
            "20/20 [==============================] - 4s 192ms/step - loss: 0.0012 - acc: 8.1900e-04 - val_loss: 0.0013 - val_acc: 0.0016\n",
            "Epoch 9/75\n",
            "20/20 [==============================] - 2s 120ms/step - loss: 0.0013 - acc: 8.1900e-04 - val_loss: 7.4440e-04 - val_acc: 0.0016\n",
            "Epoch 10/75\n",
            "20/20 [==============================] - 3s 156ms/step - loss: 0.0012 - acc: 8.1900e-04 - val_loss: 6.5518e-04 - val_acc: 0.0016\n",
            "Epoch 11/75\n",
            "20/20 [==============================] - 2s 116ms/step - loss: 0.0013 - acc: 8.1900e-04 - val_loss: 7.0354e-04 - val_acc: 0.0016\n",
            "Epoch 12/75\n",
            "20/20 [==============================] - 2s 118ms/step - loss: 0.0011 - acc: 8.1900e-04 - val_loss: 7.1416e-04 - val_acc: 0.0016\n",
            "Epoch 13/75\n",
            "20/20 [==============================] - 2s 120ms/step - loss: 0.0010 - acc: 8.1900e-04 - val_loss: 7.2218e-04 - val_acc: 0.0016\n",
            "Epoch 14/75\n",
            "20/20 [==============================] - 2s 119ms/step - loss: 9.7104e-04 - acc: 8.1900e-04 - val_loss: 7.1091e-04 - val_acc: 0.0016\n",
            "Epoch 15/75\n",
            "20/20 [==============================] - 2s 120ms/step - loss: 9.3148e-04 - acc: 8.1900e-04 - val_loss: 7.5634e-04 - val_acc: 0.0016\n",
            "Epoch 16/75\n",
            "20/20 [==============================] - 2s 119ms/step - loss: 9.7177e-04 - acc: 8.1900e-04 - val_loss: 6.1523e-04 - val_acc: 0.0016\n",
            "Epoch 17/75\n",
            "20/20 [==============================] - 2s 121ms/step - loss: 8.9401e-04 - acc: 8.1900e-04 - val_loss: 6.6378e-04 - val_acc: 0.0016\n",
            "Epoch 18/75\n",
            "20/20 [==============================] - 2s 118ms/step - loss: 9.5502e-04 - acc: 8.1900e-04 - val_loss: 7.2320e-04 - val_acc: 0.0016\n",
            "Epoch 19/75\n",
            "20/20 [==============================] - 2s 119ms/step - loss: 8.8973e-04 - acc: 8.1900e-04 - val_loss: 7.9763e-04 - val_acc: 0.0016\n",
            "Epoch 20/75\n",
            "20/20 [==============================] - 2s 118ms/step - loss: 9.2208e-04 - acc: 8.1900e-04 - val_loss: 7.5279e-04 - val_acc: 0.0016\n",
            "Epoch 21/75\n",
            "20/20 [==============================] - 2s 119ms/step - loss: 8.6586e-04 - acc: 8.1900e-04 - val_loss: 6.7858e-04 - val_acc: 0.0016\n",
            "Epoch 22/75\n",
            "20/20 [==============================] - 2s 117ms/step - loss: 8.0792e-04 - acc: 8.1900e-04 - val_loss: 7.1685e-04 - val_acc: 0.0016\n",
            "Epoch 23/75\n",
            "20/20 [==============================] - 2s 118ms/step - loss: 7.7291e-04 - acc: 8.1900e-04 - val_loss: 5.4988e-04 - val_acc: 0.0016\n",
            "Epoch 24/75\n",
            "20/20 [==============================] - 2s 119ms/step - loss: 7.2823e-04 - acc: 8.1900e-04 - val_loss: 7.3500e-04 - val_acc: 0.0016\n",
            "Epoch 25/75\n",
            "20/20 [==============================] - 2s 119ms/step - loss: 7.3752e-04 - acc: 8.1900e-04 - val_loss: 5.9579e-04 - val_acc: 0.0016\n",
            "Epoch 26/75\n",
            "20/20 [==============================] - 2s 117ms/step - loss: 7.2171e-04 - acc: 8.1900e-04 - val_loss: 5.9478e-04 - val_acc: 0.0016\n",
            "Epoch 27/75\n",
            "20/20 [==============================] - 2s 118ms/step - loss: 7.0570e-04 - acc: 8.1900e-04 - val_loss: 7.6979e-04 - val_acc: 0.0016\n",
            "Epoch 28/75\n",
            "20/20 [==============================] - 2s 119ms/step - loss: 7.0822e-04 - acc: 8.1900e-04 - val_loss: 6.1262e-04 - val_acc: 0.0016\n",
            "Epoch 29/75\n",
            "20/20 [==============================] - 2s 120ms/step - loss: 7.1929e-04 - acc: 8.1900e-04 - val_loss: 6.7989e-04 - val_acc: 0.0016\n",
            "Epoch 30/75\n",
            "20/20 [==============================] - 2s 118ms/step - loss: 7.2521e-04 - acc: 8.1900e-04 - val_loss: 5.5532e-04 - val_acc: 0.0016\n",
            "Epoch 31/75\n",
            "20/20 [==============================] - 2s 121ms/step - loss: 6.6299e-04 - acc: 8.1900e-04 - val_loss: 7.2333e-04 - val_acc: 0.0016\n",
            "Epoch 32/75\n",
            "20/20 [==============================] - 3s 152ms/step - loss: 6.2440e-04 - acc: 8.1900e-04 - val_loss: 7.5295e-04 - val_acc: 0.0016\n",
            "Epoch 33/75\n",
            "20/20 [==============================] - 2s 117ms/step - loss: 6.3325e-04 - acc: 8.1900e-04 - val_loss: 6.1903e-04 - val_acc: 0.0016\n",
            "Epoch 34/75\n",
            "20/20 [==============================] - 2s 120ms/step - loss: 6.8829e-04 - acc: 8.1900e-04 - val_loss: 6.7020e-04 - val_acc: 0.0016\n",
            "Epoch 35/75\n",
            "20/20 [==============================] - 2s 117ms/step - loss: 7.3703e-04 - acc: 8.1900e-04 - val_loss: 7.2655e-04 - val_acc: 0.0016\n",
            "Epoch 36/75\n",
            "20/20 [==============================] - 2s 119ms/step - loss: 6.7306e-04 - acc: 8.1900e-04 - val_loss: 8.7798e-04 - val_acc: 0.0016\n",
            "Epoch 37/75\n",
            "20/20 [==============================] - 2s 119ms/step - loss: 6.3443e-04 - acc: 8.1900e-04 - val_loss: 7.5470e-04 - val_acc: 0.0016\n",
            "Epoch 38/75\n",
            "20/20 [==============================] - 2s 118ms/step - loss: 5.8434e-04 - acc: 8.1900e-04 - val_loss: 5.9519e-04 - val_acc: 0.0016\n",
            "Epoch 39/75\n",
            "20/20 [==============================] - 2s 119ms/step - loss: 5.6081e-04 - acc: 8.1900e-04 - val_loss: 6.9618e-04 - val_acc: 0.0016\n",
            "Epoch 40/75\n",
            "20/20 [==============================] - 2s 120ms/step - loss: 5.4714e-04 - acc: 8.1900e-04 - val_loss: 5.8502e-04 - val_acc: 0.0016\n",
            "Epoch 41/75\n",
            "20/20 [==============================] - 2s 119ms/step - loss: 5.5835e-04 - acc: 8.1900e-04 - val_loss: 6.1038e-04 - val_acc: 0.0016\n",
            "Epoch 42/75\n",
            "20/20 [==============================] - 2s 117ms/step - loss: 5.4784e-04 - acc: 8.1900e-04 - val_loss: 5.7359e-04 - val_acc: 0.0016\n",
            "Epoch 43/75\n",
            "20/20 [==============================] - 2s 118ms/step - loss: 5.6972e-04 - acc: 8.1900e-04 - val_loss: 5.8852e-04 - val_acc: 0.0016\n",
            "Epoch 44/75\n",
            "20/20 [==============================] - 2s 118ms/step - loss: 5.4301e-04 - acc: 8.1900e-04 - val_loss: 5.0395e-04 - val_acc: 0.0016\n",
            "Epoch 45/75\n",
            "20/20 [==============================] - 2s 117ms/step - loss: 5.9988e-04 - acc: 8.1900e-04 - val_loss: 5.1768e-04 - val_acc: 0.0016\n",
            "Epoch 46/75\n",
            "20/20 [==============================] - 2s 120ms/step - loss: 5.4034e-04 - acc: 8.1900e-04 - val_loss: 6.4846e-04 - val_acc: 0.0016\n",
            "Epoch 47/75\n",
            "20/20 [==============================] - 2s 118ms/step - loss: 5.4761e-04 - acc: 8.1900e-04 - val_loss: 5.3319e-04 - val_acc: 0.0016\n",
            "Epoch 48/75\n",
            "20/20 [==============================] - 2s 118ms/step - loss: 5.9043e-04 - acc: 8.1900e-04 - val_loss: 4.7183e-04 - val_acc: 0.0016\n",
            "Epoch 49/75\n",
            "20/20 [==============================] - 2s 121ms/step - loss: 5.9365e-04 - acc: 8.1900e-04 - val_loss: 6.5678e-04 - val_acc: 0.0016\n",
            "Epoch 50/75\n",
            "20/20 [==============================] - 2s 120ms/step - loss: 4.9736e-04 - acc: 8.1900e-04 - val_loss: 6.5054e-04 - val_acc: 0.0016\n",
            "Epoch 51/75\n",
            "20/20 [==============================] - 2s 118ms/step - loss: 4.9992e-04 - acc: 8.1900e-04 - val_loss: 5.3731e-04 - val_acc: 0.0016\n",
            "Epoch 52/75\n",
            "20/20 [==============================] - 2s 120ms/step - loss: 4.9943e-04 - acc: 8.1900e-04 - val_loss: 5.2615e-04 - val_acc: 0.0016\n",
            "Epoch 53/75\n",
            "20/20 [==============================] - 2s 119ms/step - loss: 5.1356e-04 - acc: 8.1900e-04 - val_loss: 4.5761e-04 - val_acc: 0.0016\n",
            "Epoch 54/75\n",
            "20/20 [==============================] - 2s 118ms/step - loss: 4.6500e-04 - acc: 8.1900e-04 - val_loss: 6.0695e-04 - val_acc: 0.0016\n",
            "Epoch 55/75\n",
            "20/20 [==============================] - 2s 121ms/step - loss: 5.3312e-04 - acc: 8.1900e-04 - val_loss: 4.9812e-04 - val_acc: 0.0016\n",
            "Epoch 56/75\n",
            "20/20 [==============================] - 2s 119ms/step - loss: 4.5930e-04 - acc: 8.1900e-04 - val_loss: 4.1682e-04 - val_acc: 0.0016\n",
            "Epoch 57/75\n",
            "20/20 [==============================] - 3s 152ms/step - loss: 5.1677e-04 - acc: 8.1900e-04 - val_loss: 5.5731e-04 - val_acc: 0.0016\n",
            "Epoch 58/75\n",
            "20/20 [==============================] - 2s 119ms/step - loss: 4.6688e-04 - acc: 8.1900e-04 - val_loss: 4.7150e-04 - val_acc: 0.0016\n",
            "Epoch 59/75\n",
            "20/20 [==============================] - 2s 119ms/step - loss: 4.4287e-04 - acc: 8.1900e-04 - val_loss: 4.2050e-04 - val_acc: 0.0016\n",
            "Epoch 60/75\n",
            "20/20 [==============================] - 2s 121ms/step - loss: 4.2622e-04 - acc: 8.1900e-04 - val_loss: 5.4236e-04 - val_acc: 0.0016\n",
            "Epoch 61/75\n",
            "20/20 [==============================] - 2s 119ms/step - loss: 4.6003e-04 - acc: 8.1900e-04 - val_loss: 4.1662e-04 - val_acc: 0.0016\n",
            "Epoch 62/75\n",
            "20/20 [==============================] - 2s 118ms/step - loss: 4.4226e-04 - acc: 8.1900e-04 - val_loss: 4.7434e-04 - val_acc: 0.0016\n",
            "Epoch 63/75\n",
            "20/20 [==============================] - 2s 120ms/step - loss: 4.5584e-04 - acc: 8.1900e-04 - val_loss: 3.4544e-04 - val_acc: 0.0016\n",
            "Epoch 64/75\n",
            "20/20 [==============================] - 2s 120ms/step - loss: 4.5945e-04 - acc: 8.1900e-04 - val_loss: 3.9225e-04 - val_acc: 0.0016\n",
            "Epoch 65/75\n",
            "20/20 [==============================] - 2s 120ms/step - loss: 4.8993e-04 - acc: 8.1900e-04 - val_loss: 4.5916e-04 - val_acc: 0.0016\n",
            "Epoch 66/75\n",
            "20/20 [==============================] - 2s 118ms/step - loss: 4.9726e-04 - acc: 8.1900e-04 - val_loss: 4.6338e-04 - val_acc: 0.0016\n",
            "Epoch 67/75\n",
            "20/20 [==============================] - 2s 117ms/step - loss: 3.8590e-04 - acc: 8.1900e-04 - val_loss: 5.1648e-04 - val_acc: 0.0016\n",
            "Epoch 68/75\n",
            "20/20 [==============================] - 2s 120ms/step - loss: 4.6176e-04 - acc: 8.1900e-04 - val_loss: 4.1303e-04 - val_acc: 0.0016\n",
            "Epoch 69/75\n",
            "20/20 [==============================] - 2s 119ms/step - loss: 4.1394e-04 - acc: 8.1900e-04 - val_loss: 3.6584e-04 - val_acc: 0.0016\n",
            "Epoch 70/75\n",
            "20/20 [==============================] - 2s 119ms/step - loss: 3.9025e-04 - acc: 8.1900e-04 - val_loss: 6.8134e-04 - val_acc: 0.0016\n",
            "Epoch 71/75\n",
            "20/20 [==============================] - 2s 119ms/step - loss: 4.6205e-04 - acc: 8.1900e-04 - val_loss: 7.1059e-04 - val_acc: 0.0016\n",
            "Epoch 72/75\n",
            "20/20 [==============================] - 2s 119ms/step - loss: 0.0011 - acc: 8.1900e-04 - val_loss: 3.6879e-04 - val_acc: 0.0016\n",
            "Epoch 73/75\n",
            "20/20 [==============================] - 2s 118ms/step - loss: 5.1255e-04 - acc: 8.1900e-04 - val_loss: 3.8456e-04 - val_acc: 0.0016\n",
            "Epoch 74/75\n",
            "20/20 [==============================] - 2s 118ms/step - loss: 3.6298e-04 - acc: 8.1900e-04 - val_loss: 3.3803e-04 - val_acc: 0.0016\n",
            "Epoch 75/75\n",
            "20/20 [==============================] - 2s 118ms/step - loss: 3.7629e-04 - acc: 8.1900e-04 - val_loss: 3.3281e-04 - val_acc: 0.0016\n"
          ]
        },
        {
          "output_type": "execute_result",
          "data": {
            "text/plain": [
              "<keras.callbacks.History at 0x7f3f10476d90>"
            ]
          },
          "metadata": {},
          "execution_count": 26
        }
      ]
    },
    {
      "cell_type": "code",
      "source": [
        "train_predict1=model.predict(x_train)\n",
        "test_predict1=model.predict(x_test)\n",
        "#Transformback to original form\n",
        "train_predict1=scaler.inverse_transform(train_predict1)\n",
        "test_predict1=scaler.inverse_transform(test_predict1)\n",
        "math.sqrt(mean_squared_error(y_train,train_predict1))"
      ],
      "metadata": {
        "colab": {
          "base_uri": "https://localhost:8080/"
        },
        "id": "6LV-CznJvi0J",
        "outputId": "30c188c1-6dab-4517-ca49-de3537a3595c"
      },
      "execution_count": 28,
      "outputs": [
        {
          "output_type": "stream",
          "name": "stdout",
          "text": [
            "39/39 [==============================] - 1s 23ms/step\n",
            "20/20 [==============================] - 0s 22ms/step\n"
          ]
        },
        {
          "output_type": "execute_result",
          "data": {
            "text/plain": [
              "165.3409703658452"
            ]
          },
          "metadata": {},
          "execution_count": 28
        }
      ]
    },
    {
      "cell_type": "code",
      "source": [
        "math.sqrt(mean_squared_error(y_test,test_predict1))"
      ],
      "metadata": {
        "colab": {
          "base_uri": "https://localhost:8080/"
        },
        "id": "xXnrCzolwL-j",
        "outputId": "4b354ae6-92f6-496c-d2a2-d16cdba6bb49"
      },
      "execution_count": 29,
      "outputs": [
        {
          "output_type": "execute_result",
          "data": {
            "text/plain": [
              "116.26707536661715"
            ]
          },
          "metadata": {},
          "execution_count": 29
        }
      ]
    },
    {
      "cell_type": "code",
      "source": [
        "look_back=100\n",
        "trainPredictPlot = np.empty_like(training_set_scaler)\n",
        "trainPredictPlot[:, :] = np.nan\n",
        "trainPredictPlot[look_back:len(train_predict1)+look_back, :] = train_predict1\n",
        "\n",
        "# shift test predictions for plotting\n",
        "testPredictPlot = np.empty_like(training_set_scaler)\n",
        "testPredictPlot[:, :] = np.nan\n",
        "testPredictPlot[len(train_predict1)+(look_back*2)+1:len(df1)-1, :] = test_predict1\n",
        "\n",
        "# plot baseline and predictions\n",
        "plt.figure(figsize=(10,5))\n",
        "plt.plot(scaler.inverse_transform(training_set_scaler))\n",
        "plt.plot(trainPredictPlot)\n",
        "plt.plot(testPredictPlot)\n",
        "plt.show()"
      ],
      "metadata": {
        "colab": {
          "base_uri": "https://localhost:8080/",
          "height": 320
        },
        "id": "3L5Cx4pdwOnC",
        "outputId": "77b58c50-c773-401e-a3ff-71c498e0a71c"
      },
      "execution_count": 30,
      "outputs": [
        {
          "output_type": "display_data",
          "data": {
            "text/plain": [
              "<Figure size 720x360 with 1 Axes>"
            ],
            "image/png": "[encoded data removed]"
          },
          "metadata": {
            "needs_background": "light"
          }
        }
      ]
    }
  ]
}